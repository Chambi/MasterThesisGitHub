{
 "metadata": {
  "name": "Trapping Frequency During Transport with Additional Errors"
 },
 "nbformat": 3,
 "nbformat_minor": 0,
 "worksheets": [
  {
   "cells": [
    {
     "cell_type": "heading",
     "level": 1,
     "metadata": {},
     "source": [
      "Trapping Frequency Variation during Transport with Additional Errors"
     ]
    },
    {
     "cell_type": "code",
     "collapsed": false,
     "input": [
      "# import several packages:\n",
      "from pylab import *\n",
      "from sympy import *\n",
      "from sympy.physics.quantum import *\n",
      "from sympy.physics.quantum.qubit import Qubit\n",
      "from sympy.abc import theta, epsilon, phi\n",
      "from sympy import collect\n",
      "import panna as p\n",
      "import numpy as np\n",
      "from math import pi\n",
      "from sympy import exp"
     ],
     "language": "python",
     "metadata": {},
     "outputs": [],
     "prompt_number": 1
    },
    {
     "cell_type": "markdown",
     "metadata": {},
     "source": [
      "$$ |l_{ges}\\rangle =  |l_1 \\rangle + e^{i\\theta} |l_2\\rangle + |l_{back}\\rangle$$\n",
      "\"Unitary\" Error of the Quarterwave plate ---> In reality $|l_1\\rangle$ will not be a perfect $|\\sigma^+\\rangle$ lattice, but will contain a $|\\sigma^-\\rangle$ part, the same holds for $|l_2\\rangle$. \n",
      "The backrunning beam has double intensity which leads to a factor $\\sqrt{2}$ in the electrical field\n",
      "$$ |l_1 \\rangle = (\\cos\\epsilon|\\sigma^+\\rangle - \\sin\\epsilon |\\sigma^-\\rangle)e^{ikx} \\qquad |l_2\\rangle = (\\sin\\epsilon|\\sigma^+\\rangle + \\cos\\epsilon|\\sigma^-\\rangle)e^{ikx} \\qquad |l_{back}\\rangle = \\sqrt{2}\\frac{1}{\\sqrt{2}} (|\\sigma^+\\rangle + |\\sigma^-\\rangle) e^{-ikx}$$\n",
      "For lattice crosstalk occuring due to unorthogonality the resulting states can be written as \n",
      "$$|l_1\\rangle = |\\sigma^+\\rangle e^{ikx} \\qquad |l_2\\rangle = (\\sin\\varphi |\\sigma^+\\rangle + \\cos\\varphi |\\sigma^-\\rangle)e^{ikx}$$\n",
      "\n",
      "With the states chosen right now, even for perfect $|l_1\\rangle,\\ |l_2\\rangle$ one state will see a contamination from the other lattice:\n",
      "$$ U_{|+\\rangle} = I_{|\\sigma^+\\rangle} \\qquad U_{|-\\rangle} = \\frac{7}{8} I_{|\\sigma^-\\rangle} + \\frac{1}{8} I_{|\\sigma^+\\rangle}$$ \n",
      "sensitivity of the two states to sigma+, sigma-:\n",
      "\n",
      "$$ \\hat s_0 = 0\\cdot |\\sigma^+\\rangle \\langle \\sigma^+ | + 1\\cdot |\\sigma^-\\rangle \\langle \\sigma^-|\n",
      "\\quad\n",
      "\\hat s_1 = \\sqrt{\\frac{7}{8}} \\cdot |\\sigma^+\\rangle \\langle \\sigma^+ | + \\sqrt{\\frac{1}{8}}\\cdot |\\sigma^-\\rangle \\langle \\sigma^-|$$\n"
     ]
    },
    {
     "cell_type": "code",
     "collapsed": false,
     "input": [
      "sigma_plus = Qubit(0)\n",
      "sigma_minus = Qubit(1)\n",
      "\n",
      "s_0 = 0*sigma_plus*Dagger(sigma_plus) + 1*sigma_minus*Dagger(sigma_minus)\n",
      "s_1 = sqrt(7/8)*sigma_plus*Dagger(sigma_plus)+sqrt(1/8)*sigma_minus*Dagger(sigma_minus) \n",
      "s_0, s_1"
     ],
     "language": "python",
     "metadata": {},
     "outputs": [
      {
       "latex": [
        "$$\\begin{pmatrix}{\\left|1\\right\\rangle }{\\left\\langle 1\\right|}, & 0.935414346693485 {\\left|0\\right\\rangle } {\\left\\langle 0\\right|} + 0.353553390593274 {\\left|1\\right\\rangle } {\\left\\langle 1\\right|}\\end{pmatrix}$$"
       ],
       "output_type": "pyout",
       "prompt_number": 2,
       "text": [
        "(\u27581\u27e9\u27e81\u2758, 0.935414346693485\u22c5\u27580\u27e9\u22c5\u27e80\u2758 + 0.353553390593274\u22c5\u27581\u27e9\u22c5\u27e81\u2758)"
       ]
      }
     ],
     "prompt_number": 2
    },
    {
     "cell_type": "code",
     "collapsed": false,
     "input": [
      "# Declaration of symbol names\n",
      "l1, l2, e1, e2 = Symbol(r'|{l_1}\\rangle'), Symbol(r'|{l_2}\\rangle'), Symbol('\\epsilon_1'), Symbol('\\epsilon_2')\n",
      "k = Symbol('k', real = True)\n",
      "x = Symbol('x', real = True)\n",
      "phi = Symbol('phi', real = True)\n",
      "theta = Symbol('theta', real = True)\n",
      "l_back = Symbol(r'|l_{back}\\rangle')\n",
      "l_ges = Symbol(r'|l_{ges}\\rangle')\n",
      "\n",
      "alpha, beta, gamma, delta = Symbol('alpha', real = True), Symbol('beta', real = True),Symbol('gamma', real = True),Symbol('delta', real = True)"
     ],
     "language": "python",
     "metadata": {},
     "outputs": [],
     "prompt_number": 3
    },
    {
     "cell_type": "markdown",
     "metadata": {},
     "source": [
      "For the general case $|l_1\\rangle$, $|l_2\\rangle$ are written as superposition of $|\\sigma^+\\rangle$ and $|\\sigma^-\\rangle$ with coefficients $\\alpha$, $\\beta$, $\\gamma$, $\\delta$:"
     ]
    },
    {
     "cell_type": "code",
     "collapsed": false,
     "input": [
      "l1 = (alpha*sigma_plus+beta*sigma_minus)*exp(I*k*x)\n",
      "l2 = (gamma*sigma_plus + delta*sigma_minus)*exp(I*k*x)\n",
      "l_back = (sigma_plus + sigma_minus)*exp(-I*k*x)\n",
      "l_ges = exp(-I*theta)*l1 + exp(I*theta)*l2 + l_back\n",
      "l1, l2, l_back"
     ],
     "language": "python",
     "metadata": {},
     "outputs": [
      {
       "latex": [
        "$$\\begin{pmatrix}e^{\\mathbf{\\imath} k x} \\left(\\alpha {\\left|0\\right\\rangle } + \\beta {\\left|1\\right\\rangle }\\right), & e^{\\mathbf{\\imath} k x} \\left(\\delta {\\left|1\\right\\rangle } + \\gamma {\\left|0\\right\\rangle }\\right), & \\frac{{\\left|0\\right\\rangle } + {\\left|1\\right\\rangle }}{e^{\\mathbf{\\imath} k x}}\\end{pmatrix}$$"
       ],
       "output_type": "pyout",
       "prompt_number": 4,
       "text": [
        "(\n",
        " \u2148\u22c5k\u22c5x                \n",
        "\u212f     \u22c5(\u03b1\u22c5\u27580\u27e9 + \u03b2\u22c5\u27581\u27e9),\n",
        " \n",
        " \u2148\u22c5k\u22c5x                \n",
        "\u212f     \u22c5(\u03b4\u22c5\u27581\u27e9 + \u03b3\u22c5\u27580\u27e9),\n",
        " \n",
        " -\u2148\u22c5k\u22c5x            \n",
        "\u212f      \u22c5(\u27580\u27e9 + \u27581\u27e9))"
       ]
      }
     ],
     "prompt_number": 4
    },
    {
     "cell_type": "markdown",
     "metadata": {},
     "source": [
      "\n",
      "potential seen by state $|0\\rangle$ and state $|1\\rangle$: \n",
      "$$ U_{|0\\rangle} = \\langle l_{ges} | \\hat s_0^2 |l_{ges} \\rangle \\quad U_{|1\\rangle} = \\langle l_{ges} | \\hat s_1^2 |l_{ges} \\rangle$$"
     ]
    },
    {
     "cell_type": "code",
     "collapsed": false,
     "input": [
      "E0_u = qapply(s_0*l_ges)\n",
      "I0_u = qapply(Dagger(E0_u)*E0_u)\n",
      "\n",
      "E1_u = qapply(s_1*l_ges)\n",
      "I1_u = qapply(Dagger(E1_u)*E1_u)\n",
      "\n",
      "I0 = powsimp(I0_u).expand(complex = True)\n",
      "I1 = powsimp(trigsimp(I1_u)).expand(complex = True)\n",
      "\n",
      "I0"
     ],
     "language": "python",
     "metadata": {},
     "outputs": [
      {
       "latex": [
        "$$\\beta^{2} + 2 \\beta \\delta \\operatorname{cos}\\left(2 \\theta\\right) + 2 \\beta \\operatorname{cos}\\left(2 k x - \\theta\\right) + \\delta^{2} + 2 \\delta \\operatorname{cos}\\left(2 k x + \\theta\\right) + 1$$"
       ],
       "output_type": "pyout",
       "png": "[encoded data removed]",
       "prompt_number": 5,
       "text": [
        "\n",
        " 2                                          2                         \n",
        "\u03b2  + 2\u22c5\u03b2\u22c5\u03b4\u22c5cos(2\u22c5\u03b8) + 2\u22c5\u03b2\u22c5cos(2\u22c5k\u22c5x - \u03b8) + \u03b4  + 2\u22c5\u03b4\u22c5cos(2\u22c5k\u22c5x + \u03b8) + 1"
       ]
      }
     ],
     "prompt_number": 5
    },
    {
     "cell_type": "markdown",
     "metadata": {},
     "source": [
      "The intensity distributions $U_{|0\\rangle}$ and $U_{|1\\rangle}$ contain spatially varying terms $A\\cdot \\cos(2kx + \\theta)+B\\cdot \\cos(2kx-\\theta)$. Using clever trigonometric identities like this one http://en.wikibooks.org/wiki/Trigonometry/Simplifying_a_sin%28x%29_%2B_b_cos%28x%29 one can simplify the spatially varying terms and obtain the effective amplitude:"
     ]
    },
    {
     "cell_type": "markdown",
     "metadata": {},
     "source": [
      "<img src=\"https://raw.github.com/Chambi/MasterThesisGitHub/master/Trapping_Frequency_Variation_During_Transport/Calc2.png\" width=600 />"
     ]
    },
    {
     "cell_type": "markdown",
     "metadata": {},
     "source": [
      "<img src=\"https://raw.github.com/Chambi/MasterThesisGitHub/master/Trapping_Frequency_Variation_During_Transport/Calc.png\" width=600 /> "
     ]
    },
    {
     "cell_type": "markdown",
     "metadata": {},
     "source": [
      "<img src=\"files/photodiode_Fig_1.png\" width=400 />"
     ]
    },
    {
     "cell_type": "code",
     "collapsed": false,
     "input": [
      "# the effective amplitude from the equation above can be calculated with the coefficients A and B as:\n",
      "def Effective_Amplitude(A, B):\n",
      "    return 0.5*sqrt(simplify((A+B)**2*(cos(theta))**2+(A-B)**2*(sin(theta))**2))"
     ],
     "language": "python",
     "metadata": {},
     "outputs": [],
     "prompt_number": 6
    },
    {
     "cell_type": "code",
     "collapsed": false,
     "input": [
      "# collect terms for cos(2*k*x-theta) and cos(2*k*x+theta) to obtain the coefficients A and B\n",
      "A0 = collect(I0, {cos(2*k*x-theta), cos(2*k*x+theta)}, evaluate = False)\n",
      "# calculate effective amplitude\n",
      "A0eff = Effective_Amplitude(A0[cos(2*k*x-theta)], A0[cos(2*k*x+theta)])\n",
      "A0[cos(2*k*x-theta)],A0[cos(2*k*x+theta)], A0eff"
     ],
     "language": "python",
     "metadata": {},
     "outputs": [
      {
       "latex": [
        "$$\\begin{pmatrix}2 \\beta, & 2 \\delta, & 0.5 \\sqrt{4 \\beta^{2} - 16 \\beta \\delta \\operatorname{sin}^{2}\\left(\\theta\\right) + 8 \\beta \\delta + 4 \\delta^{2}}\\end{pmatrix}$$"
       ],
       "output_type": "pyout",
       "prompt_number": 7,
       "text": [
        "(2\u22c5\u03b2,\n",
        " 2\u22c5\u03b4,\n",
        " \n",
        "       \u23bd\u23bd\u23bd\u23bd\u23bd\u23bd\u23bd\u23bd\u23bd\u23bd\u23bd\u23bd\u23bd\u23bd\u23bd\u23bd\u23bd\u23bd\u23bd\u23bd\u23bd\u23bd\u23bd\u23bd\u23bd\u23bd\u23bd\u23bd\u23bd\u23bd\u23bd\u23bd\u23bd\u23bd\u23bd\u23bd\u23bd\u23bd\n",
        "      \u2571    2             2                 2 \n",
        "0.5\u22c5\u2572\u2571  4\u22c5\u03b2  - 16\u22c5\u03b2\u22c5\u03b4\u22c5sin (\u03b8) + 8\u22c5\u03b2\u22c5\u03b4 + 4\u22c5\u03b4  )"
       ]
      }
     ],
     "prompt_number": 7
    },
    {
     "cell_type": "code",
     "collapsed": false,
     "input": [
      "# the same for state |1>\n",
      "A1 = collect(I1, {cos(2*k*x-theta), cos(2*k*x+theta)}, evaluate = False)\n",
      "A1eff = Effective_Amplitude(A1[cos(2*k*x-theta)], A1[cos(2*k*x+theta)])\n",
      "A1[cos(2*k*x-theta)], A1[cos(2*k*x+theta)],A1eff"
     ],
     "language": "python",
     "metadata": {},
     "outputs": [
      {
       "latex": [
        "$$\\begin{pmatrix}1.75 \\alpha + 0.25 \\beta, & 0.25 \\delta + 1.75 \\gamma, & 0.5 \\sqrt{\\left(1.75 \\alpha + 0.25 \\beta - 0.25 \\delta - 1.75 \\gamma\\right)^{2} \\operatorname{sin}^{2}\\left(\\theta\\right) + \\left(1.75 \\alpha + 0.25 \\beta + 0.25 \\delta + 1.75 \\gamma\\right)^{2} \\operatorname{cos}^{2}\\left(\\theta\\right)}\\end{pmatrix}$$"
       ],
       "output_type": "pyout",
       "prompt_number": 8,
       "text": [
        "(1.75\u22c5\u03b1 + 0.25\u22c5\u03b2,\n",
        " 0.25\u22c5\u03b4 + 1.75\u22c5\u03b3,\n",
        " \n",
        "       \u23bd\u23bd\u23bd\u23bd\u23bd\u23bd\u23bd\u23bd\u23bd\u23bd\u23bd\u23bd\u23bd\u23bd\u23bd\u23bd\u23bd\u23bd\u23bd\u23bd\u23bd\u23bd\u23bd\u23bd\u23bd\u23bd\u23bd\u23bd\u23bd\u23bd\u23bd\u23bd\u23bd\u23bd\u23bd\u23bd\u23bd\u23bd\u23bd\u23bd\u23bd\u23bd\u23bd\u23bd\u23bd\u23bd\u23bd\u23bd\u23bd\u23bd\u23bd\u23bd\u23bd\u23bd\u23bd\u23bd\u23bd\u23bd\u23bd\u23bd\u23bd\u23bd\u23bd\u23bd\u23bd\u23bd\u23bd\u23bd\u23bd\u23bd\u23bd\n",
        "      \u2571                                    2    2                             \n",
        "0.5\u22c5\u2572\u2571  (1.75\u22c5\u03b1 + 0.25\u22c5\u03b2 - 0.25\u22c5\u03b4 - 1.75\u22c5\u03b3) \u22c5sin (\u03b8) + (1.75\u22c5\u03b1 + 0.25\u22c5\u03b2 + 0.25\n",
        "\n",
        "\u23bd\u23bd\u23bd\u23bd\u23bd\u23bd\u23bd\u23bd\u23bd\u23bd\u23bd\u23bd\u23bd\u23bd\u23bd\u23bd\u23bd\u23bd\u23bd\u23bd\u23bd\u23bd\n",
        "            2    2    \n",
        "\u22c5\u03b4 + 1.75\u22c5\u03b3) \u22c5cos (\u03b8) )"
       ]
      }
     ],
     "prompt_number": 8
    },
    {
     "cell_type": "heading",
     "level": 3,
     "metadata": {},
     "source": [
      "Without Errors"
     ]
    },
    {
     "cell_type": "markdown",
     "metadata": {},
     "source": [
      "Compare this to page 135, eq. 4.31a and 4.31b in M. Karski's thesis:"
     ]
    },
    {
     "cell_type": "code",
     "collapsed": false,
     "input": [
      "P0 = A0eff.subs({alpha:1, delta:1, beta:0, gamma:0})\n",
      "P1 = simplify(A1eff.subs({alpha:1, delta:1, beta:0, gamma:0}))\n",
      "P0, P1"
     ],
     "language": "python",
     "metadata": {},
     "outputs": [
      {
       "latex": [
        "$$\\begin{pmatrix}1.0, & 0.5 \\sqrt{- 1.75 \\operatorname{sin}^{2}\\left(\\theta\\right) + 4.0}\\end{pmatrix}$$"
       ],
       "output_type": "pyout",
       "prompt_number": 9,
       "text": [
        "(1.00000000000000,\n",
        " \n",
        "       \u23bd\u23bd\u23bd\u23bd\u23bd\u23bd\u23bd\u23bd\u23bd\u23bd\u23bd\u23bd\u23bd\u23bd\u23bd\u23bd\u23bd\u23bd\u23bd\u23bd\u23bd\u23bd\n",
        "      \u2571           2          \n",
        "0.5\u22c5\u2572\u2571  - 1.75\u22c5sin (\u03b8) + 4.0 )"
       ]
      }
     ],
     "prompt_number": 9
    },
    {
     "cell_type": "heading",
     "level": 3,
     "metadata": {},
     "source": [
      "Considering Unorthogonality"
     ]
    },
    {
     "cell_type": "code",
     "collapsed": false,
     "input": [
      "U0 = A0eff.subs({alpha:cos(phi), delta:1, beta:sin(phi), gamma:0})\n",
      "U1 = A1eff.subs({alpha:cos(phi), delta:1, beta:sin(phi), gamma:0})\n",
      "U0, U1"
     ],
     "language": "python",
     "metadata": {},
     "outputs": [
      {
       "latex": [
        "$$\\begin{pmatrix}0.5 \\sqrt{4 \\operatorname{sin}^{2}\\left(\\phi\\right) - 16 \\operatorname{sin}\\left(\\phi\\right) \\operatorname{sin}^{2}\\left(\\theta\\right) + 8 \\operatorname{sin}\\left(\\phi\\right) + 4}, & 0.5 \\sqrt{\\left(0.25 \\operatorname{sin}\\left(\\phi\\right) + 1.75 \\operatorname{cos}\\left(\\phi\\right) -0.25\\right)^{2} \\operatorname{sin}^{2}\\left(\\theta\\right) + \\left(0.25 \\operatorname{sin}\\left(\\phi\\right) + 1.75 \\operatorname{cos}\\left(\\phi\\right) + 0.25\\right)^{2} \\operatorname{cos}^{2}\\left(\\theta\\right)}\\end{pmatrix}$$"
       ],
       "output_type": "pyout",
       "prompt_number": 10,
       "text": [
        "(\n",
        "       \u23bd\u23bd\u23bd\u23bd\u23bd\u23bd\u23bd\u23bd\u23bd\u23bd\u23bd\u23bd\u23bd\u23bd\u23bd\u23bd\u23bd\u23bd\u23bd\u23bd\u23bd\u23bd\u23bd\u23bd\u23bd\u23bd\u23bd\u23bd\u23bd\u23bd\u23bd\u23bd\u23bd\u23bd\u23bd\u23bd\u23bd\u23bd\u23bd\u23bd\u23bd\u23bd\u23bd\u23bd\u23bd\u23bd\n",
        "      \u2571      2                   2                   \n",
        "0.5\u22c5\u2572\u2571  4\u22c5sin (\u03c6) - 16\u22c5sin(\u03c6)\u22c5sin (\u03b8) + 8\u22c5sin(\u03c6) + 4 ,\n",
        " \n",
        "       \u23bd\u23bd\u23bd\u23bd\u23bd\u23bd\u23bd\u23bd\u23bd\u23bd\u23bd\u23bd\u23bd\u23bd\u23bd\u23bd\u23bd\u23bd\u23bd\u23bd\u23bd\u23bd\u23bd\u23bd\u23bd\u23bd\u23bd\u23bd\u23bd\u23bd\u23bd\u23bd\u23bd\u23bd\u23bd\u23bd\u23bd\u23bd\u23bd\u23bd\u23bd\u23bd\u23bd\u23bd\u23bd\u23bd\u23bd\u23bd\u23bd\u23bd\u23bd\u23bd\u23bd\u23bd\u23bd\u23bd\u23bd\u23bd\u23bd\u23bd\u23bd\u23bd\u23bd\u23bd\u23bd\u23bd\u23bd\u23bd\u23bd\u23bd\u23bd\n",
        "      \u2571                                   2    2                              \n",
        "0.5\u22c5\u2572\u2571  (0.25\u22c5sin(\u03c6) + 1.75\u22c5cos(\u03c6) - 0.25) \u22c5sin (\u03b8) + (0.25\u22c5sin(\u03c6) + 1.75\u22c5cos(\n",
        "\n",
        "\u23bd\u23bd\u23bd\u23bd\u23bd\u23bd\u23bd\u23bd\u23bd\u23bd\u23bd\u23bd\u23bd\u23bd\u23bd\u23bd\u23bd\u23bd\u23bd\u23bd\n",
        "          2    2    \n",
        "\u03c6) + 0.25) \u22c5cos (\u03b8) )"
       ]
      }
     ],
     "prompt_number": 10
    },
    {
     "cell_type": "heading",
     "level": 3,
     "metadata": {},
     "source": [
      "Considering Quarterwave plate Errors"
     ]
    },
    {
     "cell_type": "code",
     "collapsed": false,
     "input": [
      "L0 = A0eff.subs({alpha:cos(epsilon), delta:cos(epsilon), beta:-sin(epsilon), gamma:sin(epsilon)})\n",
      "L1 = A1eff.subs({alpha:cos(epsilon), delta:cos(epsilon), beta:-sin(epsilon), gamma:sin(epsilon)})\n",
      "trigsimp(L0), trigsimp(L1)"
     ],
     "language": "python",
     "metadata": {},
     "outputs": [
      {
       "latex": [
        "$$\\begin{pmatrix}0.5 \\sqrt{- 16 \\operatorname{sin}\\left(\\epsilon\\right) \\operatorname{cos}\\left(\\epsilon\\right) \\operatorname{cos}^{2}\\left(\\theta\\right) + 8 \\operatorname{sin}\\left(\\epsilon\\right) \\operatorname{cos}\\left(\\epsilon\\right) + 4}, & 0.5 \\sqrt{- \\left(- 2.0 \\operatorname{sin}\\left(\\epsilon\\right) + 1.5 \\operatorname{cos}\\left(\\epsilon\\right)\\right)^{2} \\operatorname{cos}^{2}\\left(\\theta\\right) + \\left(- 2.0 \\operatorname{sin}\\left(\\epsilon\\right) + 1.5 \\operatorname{cos}\\left(\\epsilon\\right)\\right)^{2} + \\left(1.5 \\operatorname{sin}\\left(\\epsilon\\right) + 2.0 \\operatorname{cos}\\left(\\epsilon\\right)\\right)^{2} \\operatorname{cos}^{2}\\left(\\theta\\right)}\\end{pmatrix}$$"
       ],
       "output_type": "pyout",
       "prompt_number": 11,
       "text": [
        "(\n",
        "       \u23bd\u23bd\u23bd\u23bd\u23bd\u23bd\u23bd\u23bd\u23bd\u23bd\u23bd\u23bd\u23bd\u23bd\u23bd\u23bd\u23bd\u23bd\u23bd\u23bd\u23bd\u23bd\u23bd\u23bd\u23bd\u23bd\u23bd\u23bd\u23bd\u23bd\u23bd\u23bd\u23bd\u23bd\u23bd\u23bd\u23bd\u23bd\u23bd\u23bd\u23bd\u23bd\u23bd\u23bd\u23bd\u23bd\u23bd\u23bd\u23bd\u23bd\n",
        "      \u2571                       2                          \n",
        "0.5\u22c5\u2572\u2571  - 16\u22c5sin(\u03b5)\u22c5cos(\u03b5)\u22c5cos (\u03b8) + 8\u22c5sin(\u03b5)\u22c5cos(\u03b5) + 4 ,\n",
        " \n",
        "       \u23bd\u23bd\u23bd\u23bd\u23bd\u23bd\u23bd\u23bd\u23bd\u23bd\u23bd\u23bd\u23bd\u23bd\u23bd\u23bd\u23bd\u23bd\u23bd\u23bd\u23bd\u23bd\u23bd\u23bd\u23bd\u23bd\u23bd\u23bd\u23bd\u23bd\u23bd\u23bd\u23bd\u23bd\u23bd\u23bd\u23bd\u23bd\u23bd\u23bd\u23bd\u23bd\u23bd\u23bd\u23bd\u23bd\u23bd\u23bd\u23bd\u23bd\u23bd\u23bd\u23bd\u23bd\u23bd\u23bd\u23bd\u23bd\u23bd\u23bd\u23bd\u23bd\u23bd\u23bd\u23bd\u23bd\u23bd\u23bd\u23bd\u23bd\u23bd\n",
        "      \u2571                             2    2                                2   \n",
        "0.5\u22c5\u2572\u2571  - (-2.0\u22c5sin(\u03b5) + 1.5\u22c5cos(\u03b5)) \u22c5cos (\u03b8) + (-2.0\u22c5sin(\u03b5) + 1.5\u22c5cos(\u03b5))  + \n",
        "\n",
        "\u23bd\u23bd\u23bd\u23bd\u23bd\u23bd\u23bd\u23bd\u23bd\u23bd\u23bd\u23bd\u23bd\u23bd\u23bd\u23bd\u23bd\u23bd\u23bd\u23bd\u23bd\u23bd\u23bd\u23bd\u23bd\u23bd\u23bd\u23bd\u23bd\u23bd\u23bd\u23bd\u23bd\u23bd\u23bd\n",
        "                         2    2    \n",
        "(1.5\u22c5sin(\u03b5) + 2.0\u22c5cos(\u03b5)) \u22c5cos (\u03b8) )"
       ]
      }
     ],
     "prompt_number": 11
    },
    {
     "cell_type": "heading",
     "level": 3,
     "metadata": {},
     "source": [
      "Finding the 0.5 % Region"
     ]
    },
    {
     "cell_type": "code",
     "collapsed": false,
     "input": [
      "def Make_Array(xvals, expr, sub):\n",
      "    res = []\n",
      "    for xval in xvals:\n",
      "        result = real(expr.subs({sub:xval}))\n",
      "        res.append(result)\n",
      "    return res"
     ],
     "language": "python",
     "metadata": {},
     "outputs": [],
     "prompt_number": 12
    },
    {
     "cell_type": "heading",
     "level": 4,
     "metadata": {},
     "source": [
      "Without Additional Errors"
     ]
    },
    {
     "cell_type": "code",
     "collapsed": false,
     "input": [
      "figure()\n",
      "p.colorcycle(3)\n",
      "p.grey_title('Variation of the Trapping Frequency with Errors')\n",
      "thetas = linspace(0,pi,100)\n",
      "\n",
      "P = Make_Array(thetas, P0, theta)\n",
      "plot(thetas, array(P)**0.5, lw = 2, label = r'Trapping Frequency for state $|0\\rangle$')\n",
      "\n",
      "P = Make_Array(thetas, P1, theta)\n",
      "plot(thetas, array(P)**0.5, '--', lw = 2, label = r'Trapping Frequency for state $|1\\rangle$')\n",
      "\n",
      "#ylim(0.86, 1.005)\n",
      "xticks([0,pi/2,pi], ['0', r'$\\pi/2$', r'$\\pi$'])\n",
      "xlabel(r'Relative Angle $\\theta$')\n",
      "ylabel(r'Trapping Frequency in Multiples of $\\omega_{trap}$')\n",
      "\n",
      "leg = legend()\n",
      "leg.get_frame().set_alpha(0.4)\n",
      "#grid()\n",
      "savefig(\"Influence_of_Quarterwaveplate_Error_Trapping_Frequency_During_Transport.png\")\n",
      "show()"
     ],
     "language": "python",
     "metadata": {},
     "outputs": [
      {
       "output_type": "display_data",
       "png": "[encoded data removed]"
      }
     ],
     "prompt_number": 13
    },
    {
     "cell_type": "heading",
     "level": 3,
     "metadata": {},
     "source": [
      "With Additional Errors"
     ]
    },
    {
     "cell_type": "code",
     "collapsed": false,
     "input": [
      "figure()\n",
      "p.colorcycle(2)\n",
      "p.grey_title('Variation of the Trapping Frequency with Errors')\n",
      "thetas = linspace(0,pi,100)\n",
      "\n",
      "P = Make_Array(thetas, P1, theta)\n",
      "phi0 = deg2rad(0.5)\n",
      "U = Make_Array(thetas, U1.subs({phi:phi0}), theta)\n",
      "epsilon0 = deg2rad(0.4)\n",
      "L = Make_Array(thetas, L1.subs({epsilon:epsilon0}), theta)\n",
      "\n",
      "fill_between(thetas, array(P)**0.5+0.005*array(P)**0.5, array(P)**0.5-0.005*array(P)**0.5, color = 'blue', alpha = 0.4)\n",
      "plot(thetas, array(L)**0.5, lw = 2.5)\n",
      "plot(thetas, array(U)**0.5, '--', lw = 2.5)\n",
      "\n",
      "P = Make_Array(thetas, P0, theta)\n",
      "phi0 = deg2rad(0.5)\n",
      "U = Make_Array(thetas, U0.subs({phi:phi0}), theta)\n",
      "epsilon0 = deg2rad(0.4)\n",
      "L = Make_Array(thetas, L0.subs({epsilon:epsilon0}), theta)\n",
      "\n",
      "fill_between(thetas, array(P)**0.5+0.005*array(P)**0.5, array(P)**0.5-0.005*array(P)**0.5, color = 'blue', alpha = 0.4, label = '0.5 % Region for no Error')\n",
      "plot(thetas, array(L)**0.5, lw = 2.5, label = r'$\\epsilon = 0.4^\\circ$')\n",
      "plot(thetas, array(U)**0.5, '--', lw = 2.5, label = r'$\\phi =  0.5^\\circ$')\n",
      "\n",
      "ylim(0.86, 1.005)\n",
      "xticks([0,pi/2,pi], ['0', r'$\\pi/2$', r'$\\pi$'])\n",
      "xlabel(r'Relative Angle $\\theta$')\n",
      "ylabel(r'Trapping Frequency in Multiples of $\\omega_{trap}$')\n",
      "\n",
      "leg = legend(loc = 4)\n",
      "leg.get_frame().set_alpha(0.4)\n",
      "grid()\n",
      "show()"
     ],
     "language": "python",
     "metadata": {},
     "outputs": [
      {
       "output_type": "display_data",
       "png": "[encoded data removed]"
      }
     ],
     "prompt_number": 14
    },
    {
     "cell_type": "code",
     "collapsed": false,
     "input": [],
     "language": "python",
     "metadata": {},
     "outputs": [],
     "prompt_number": 14
    }
   ],
   "metadata": {}
  }
 ]
}