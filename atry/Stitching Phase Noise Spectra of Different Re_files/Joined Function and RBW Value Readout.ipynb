{
 "metadata": {
  "name": "Joined Function and RBW Value Readout"
 },
 "nbformat": 3,
 "nbformat_minor": 0,
 "worksheets": [
  {
   "cells": [
    {
     "cell_type": "heading",
     "level": 1,
     "metadata": {},
     "source": [
      "Joined Function and RBW Value Readout"
     ]
    },
    {
     "cell_type": "heading",
     "level": 2,
     "metadata": {},
     "source": [
      "Load Traces into Arrays, Plot and Read out the Resolution Bandwidth RBW"
     ]
    },
    {
     "cell_type": "code",
     "collapsed": false,
     "input": [
      "my_name\t\t\t= 'Joined_Function.csv'\n",
      "\n",
      "import numpy as np # numpy for array handling and numeric calculations\n",
      "import panna as p # panna will search for all csv files and read them into one data array\n",
      "from pylab import *\n",
      "\n",
      "data = p.load_all()\n",
      "len_files = p.number_of_files()\n",
      "RBW = p.load_RBW()"
     ],
     "language": "python",
     "metadata": {},
     "outputs": [
      {
       "output_type": "stream",
       "stream": "stdout",
       "text": [
        "access file  Trace_0001.csv  via index  0\n",
        "access file  Trace_0002.csv  via index  1\n",
        "access file  Trace_0003.csv  via index  2\n",
        "access file  Trace_0004.csv  via index  3\n",
        "access file  Trace_0005.csv  via index  4\n",
        "access file  Trace_0006.csv  via index  5\n",
        "access file  Trace_0007.csv  via index  6\n"
       ]
      }
     ],
     "prompt_number": 1
    },
    {
     "cell_type": "code",
     "collapsed": false,
     "input": [
      "x, y = [0]*len_files, [0]*len_files\n",
      "for i in arange(0,len_files):\n",
      "    x[i], y[i] = array(data[i][:,0]), array(data[i][:,1])"
     ],
     "language": "python",
     "metadata": {},
     "outputs": [],
     "prompt_number": 2
    },
    {
     "cell_type": "code",
     "collapsed": false,
     "input": [
      "def center(x_values, y_values):\n",
      "\ty_values = list(y_values)\n",
      "\tmaximum_index \t= y_values.index(max(y_values))\t\n",
      "\tcenterfreq\t= x_values[maximum_index]\n",
      "\treturn centerfreq"
     ],
     "language": "python",
     "metadata": {},
     "outputs": [],
     "prompt_number": 3
    },
    {
     "cell_type": "code",
     "collapsed": false,
     "input": [
      "figure()\n",
      "subplot(121)\n",
      "p.grey_title(\"Data on Linear Scale\")\n",
      "p.colorcycle(len_files)\n",
      "for i in arange(0, len_files):\n",
      "    plot(x[i], y[i], label = str(i))\n",
      "p.scale_xaxis(subplot(121),1e-6)\n",
      "xlabel(r'Frequency [MHz]')\n",
      "ylabel(r'Amplitude [dB]')\n",
      "\n",
      "subplot(122)\n",
      "p.grey_title(\"Data on Log Scale\")\n",
      "p.colorcycle(len_files)\n",
      "for i in arange(0, len_files):\n",
      "    plot(x[i]-center(x[i],y[i]), y[i], label = 'RBW='+str(RBW[i]))\n",
      "xscale(\"log\")\n",
      "xlabel(r'Offset Frequency [Hz]')\n",
      "ylabel(r'Amplitude [dB]')\n",
      "leg = legend()\n",
      "leg.get_frame().set_alpha(0.35)\n",
      "\n",
      "tight_layout()\n",
      "savefig(\"Step_1_Plot_all_Data_in_Folder.png\")\n",
      "show()"
     ],
     "language": "python",
     "metadata": {},
     "outputs": [],
     "prompt_number": 4
    },
    {
     "cell_type": "heading",
     "level": 2,
     "metadata": {},
     "source": [
      "Normalize to 1 Hz Resolution Bandwidth"
     ]
    },
    {
     "cell_type": "code",
     "collapsed": false,
     "input": [
      "for i in arange(0, len_files):\n",
      "    y[i] = array(y[i])-10*log10(RBW[i]) "
     ],
     "language": "python",
     "metadata": {},
     "outputs": [],
     "prompt_number": 5
    },
    {
     "cell_type": "code",
     "collapsed": false,
     "input": [
      "figure()\n",
      "\n",
      "subplot(121)\n",
      "p.grey_title(\"Data on Linear Scale\")\n",
      "p.colorcycle(len_files)\n",
      "for i in arange(0, len_files):\n",
      "    plot(x[i], y[i], label = str(i))\n",
      "ylabel(\"Amplitude [dBm/Hz]\")\n",
      "xlabel(\"Frequency [Hz]\")\n",
      "\n",
      "subplot(122)\n",
      "p.grey_title(\"Data on Log Scale\")\n",
      "p.colorcycle(len_files)\n",
      "for i in arange(0, len_files):\n",
      "    plot(x[i]-center(x[i],y[i]), y[i], label = 'RBW='+str(RBW[i]))\n",
      "xscale(\"log\")\n",
      "xlabel(r'Offset Frequency [Hz]')\n",
      "ylabel(r'Amplitude [dBm/Hz]')\n",
      "leg = legend()\n",
      "leg.get_frame().set_alpha(0.35)\n",
      "tight_layout()\n",
      "savefig(\"Step_2_RBW_normalized_Traces.png\")\n",
      "show()"
     ],
     "language": "python",
     "metadata": {},
     "outputs": [],
     "prompt_number": 6
    },
    {
     "cell_type": "heading",
     "level": 2,
     "metadata": {},
     "source": [
      "Joined Function"
     ]
    },
    {
     "cell_type": "code",
     "collapsed": false,
     "input": [
      "############################ Finding the Joined Function ################################\n",
      "def find_nearest(array,value):\n",
      "    idx=(np.abs(array-value)).argmin()\n",
      "    return idx"
     ],
     "language": "python",
     "metadata": {},
     "outputs": [],
     "prompt_number": 7
    },
    {
     "cell_type": "code",
     "collapsed": false,
     "input": [
      "minimal, maximal = [], []\n",
      "for i in arange(0, len_files):\n",
      "    minimal.append([i, x[i][0]])\n",
      "    maximal.append([i, x[i][-1]])\n",
      "\n",
      "minimal = array(sorted(minimal, key=lambda element: element[1]))\n",
      "maximal = array(sorted(maximal, key = lambda element: element[1]))\n",
      "print minimal[:,0].astype(int), maximal[:,0].astype(int)"
     ],
     "language": "python",
     "metadata": {},
     "outputs": [
      {
       "output_type": "stream",
       "stream": "stdout",
       "text": [
        "[0 1 2 3 4 5 6] [6 5 4 3 2 1 0]\n"
       ]
      }
     ],
     "prompt_number": 8
    },
    {
     "cell_type": "code",
     "collapsed": false,
     "input": [
      "joined_x = []\n",
      "joined_y = []\n",
      "\n",
      "for i in minimal[:,0].astype(int):\n",
      "    if i == minimal[:,0][-1]:\n",
      "        jumping_index = len(x[i])\n",
      "    else: \n",
      "        jumping_index = find_nearest(x[i],minimal[i+1,1]) \n",
      "    for j in arange(0, jumping_index):\n",
      "        joined_x.append(x[i][j])\n",
      "        joined_y.append(y[i][j])\n",
      "    print \"appending array \",i,\" from 0 till \", jumping_index\n",
      "\n",
      "for i in maximal[:,0].astype(int):\n",
      "    jumping_index = find_nearest(x[i],joined_x[-1])\n",
      "    for j in arange(jumping_index, len(x[i])):\n",
      "        joined_x.append(x[i][j])\n",
      "        joined_y.append(y[i][j])\n",
      "    print \"appending array \",i,\" from \", jumping_index, \" till \", len(x[i])\n",
      "##########################################################################################################"
     ],
     "language": "python",
     "metadata": {},
     "outputs": [
      {
       "output_type": "stream",
       "stream": "stdout",
       "text": [
        "appending array  0  from 0 till  445\n",
        "appending array  1  from 0 till  445\n",
        "appending array  2  from 0 till  417\n",
        "appending array  3  from 0 till  400\n",
        "appending array  4  from 0 till  375\n",
        "appending array  5  from 0 till  390\n",
        "appending array  6  from 0 till  999\n",
        "appending array  6  from  998  till  999\n",
        "appending array  5  from  610  till  999\n",
        "appending array  4  from  624  till  999\n",
        "appending array  3  from  600  till  999\n",
        "appending array  2  from  583  till  999\n",
        "appending array  1  from  554  till  999\n",
        "appending array  0  from  555  till  999\n"
       ]
      }
     ],
     "prompt_number": 9
    },
    {
     "cell_type": "code",
     "collapsed": false,
     "input": [
      "figure()\n",
      "\n",
      "subplot(121)\n",
      "p.grey_title(\"Data on Linear Scale\")\n",
      "p.colorcycle(len_files)\n",
      "for i in arange(0, len_files):\n",
      "    plot(x[i], y[i], label = str(i))\n",
      "    \n",
      "plot(joined_x, joined_y, lw = 0.5, color = 'black')\n",
      "ylabel(\"Amplitude [dBm/Hz]\")\n",
      "xlabel(\"Frequency [Hz]\")\n",
      "\n",
      "subplot(122)\n",
      "p.grey_title(\"Data on Log Scale\")\n",
      "p.colorcycle(len_files)\n",
      "for i in arange(0, len_files):\n",
      "    plot(x[i]-center(x[i],y[i]), y[i], label = 'RBW='+str(RBW[i]))\n",
      "    \n",
      "xlabel(r'Offset Frequency [Hz]')\n",
      "ylabel(r'Amplitude [dBm/Hz]')\n",
      "leg = legend()\n",
      "leg.get_frame().set_alpha(0.35)\n",
      "\n",
      "plot(joined_x-center(x[0],y[0]), joined_y, lw = 0.5, color = 'black')\n",
      "xscale(\"log\")\n",
      "tight_layout()\n",
      "savefig(\"Step_3_Finding_Joined_Function.png\")\n",
      "show()"
     ],
     "language": "python",
     "metadata": {},
     "outputs": [],
     "prompt_number": 10
    },
    {
     "cell_type": "heading",
     "level": 2,
     "metadata": {},
     "source": [
      "Output Joined Function into File"
     ]
    },
    {
     "cell_type": "code",
     "collapsed": false,
     "input": [
      "filename_my_joined = my_name\n",
      "FILE_my_joined = open(filename_my_joined, \"w\")\n",
      "\n",
      "my_try = []\n",
      "for i in range(0,len(joined_x)):\n",
      "\tmy_try.append(str(joined_x[i])+\",\"+str(joined_y[i]))\n",
      "\n",
      "for item in my_try:\n",
      "\tprint >> FILE_my_joined, item\n",
      "    \n",
      "print \"Joined Function saved in \", my_name"
     ],
     "language": "python",
     "metadata": {},
     "outputs": [
      {
       "output_type": "stream",
       "stream": "stdout",
       "text": [
        "Joined Function saved in  Joined_Function.csv\n"
       ]
      }
     ],
     "prompt_number": 11
    },
    {
     "cell_type": "code",
     "collapsed": false,
     "input": [],
     "language": "python",
     "metadata": {},
     "outputs": [],
     "prompt_number": 11
    }
   ],
   "metadata": {}
  }
 ]
}