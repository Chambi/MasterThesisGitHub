{
 "metadata": {
  "name": "Measurement of Quarterwave Plate Error"
 },
 "nbformat": 3,
 "nbformat_minor": 0,
 "worksheets": [
  {
   "cells": [
    {
     "cell_type": "heading",
     "level": 1,
     "metadata": {},
     "source": [
      "Measurement of the Quarterwave Plate Retardance Error"
     ]
    },
    {
     "cell_type": "code",
     "collapsed": false,
     "input": [
      "import panna as pac\n",
      "from numpy import * \n",
      "from matplotlib import *\n",
      "from pylab import *"
     ],
     "language": "python",
     "metadata": {},
     "outputs": [
      {
       "output_type": "stream",
       "stream": "stdout",
       "text": [
        "access file  scope_50.csv  via index  0\n",
        "access file  scope_51.csv  via index  1\n",
        "access file  scope_52.csv  via index  2\n",
        "access file  scope_53.csv  via index  3\n",
        "\n"
       ]
      },
      {
       "output_type": "stream",
       "stream": "stdout",
       "text": [
        " in  ['+266.5000E-03', '\\n']  not floatable\n",
        "\n"
       ]
      },
      {
       "output_type": "stream",
       "stream": "stdout",
       "text": [
        " in  ['+8.0000E-03', '\\n']  not floatable\n",
        "\n"
       ]
      },
      {
       "output_type": "stream",
       "stream": "stdout",
       "text": [
        " in  ['+266.5000E-03', '\\n']  not floatable\n",
        "\n"
       ]
      },
      {
       "output_type": "stream",
       "stream": "stdout",
       "text": [
        " in  ['+8.0000E-03', '\\n']  not floatable\n"
       ]
      }
     ],
     "prompt_number": 1
    },
    {
     "cell_type": "heading",
     "level": 3,
     "metadata": {},
     "source": [
      "Jones Matrices for Quarterwave Plate with Error & Polarizer"
     ]
    },
    {
     "cell_type": "code",
     "collapsed": false,
     "input": [
      "# Rotation matrix\n",
      "R = lambda theta: matrix([ [ cos(theta) , -sin(theta) ],\n",
      "\t\t\t  [ sin(theta) , cos(theta) ]])\n",
      "\n",
      "# quarter wave plate with error in retardance\n",
      "Q_error_p = lambda error: matrix([ [1. , 0.], \n",
      "\t\t\t  [0. , exp(-1j*(pi/2.+error))]])\n",
      "    \n",
      "# Linear polarizer with axis of transmission horizontal\n",
      "P = matrix([ [1. , 0.],\n",
      "\t    [0. , 0.]])"
     ],
     "language": "python",
     "metadata": {},
     "outputs": [],
     "prompt_number": 2
    },
    {
     "cell_type": "heading",
     "level": 3,
     "metadata": {},
     "source": [
      "Incoming Electrical Field:"
     ]
    },
    {
     "cell_type": "code",
     "collapsed": false,
     "input": [
      "# incoming field perfectly prepolarized by GP\n",
      "omega = 80.e6\n",
      "del_omega = 40.e3\n",
      "t = linspace(0, 400e-6, 500)\n",
      "E1 = lambda time_el: exp(1j*(omega+del_omega)*time_el)*matrix([ \t[1.],\n",
      "\t     \t\t\t\t\t\t[0.]])"
     ],
     "language": "python",
     "metadata": {},
     "outputs": [],
     "prompt_number": 3
    },
    {
     "cell_type": "heading",
     "level": 3,
     "metadata": {},
     "source": [
      "Intensities on Photodiode with and without Quarterwave Plate:"
     ]
    },
    {
     "cell_type": "code",
     "collapsed": false,
     "input": [
      "# without quarter wave plate\n",
      "def signal(t, angle): \n",
      "\tI = []\n",
      "\tfor el in t:\n",
      "\t\tE = R(angle)*P*R(-angle)*E1(el)\n",
      "\t\tI.append(E.conj().T*E)\n",
      "\treturn array(I)[:,0]\n",
      "\n",
      "# with imperfect quarter wave plate \n",
      "def Q_error_plus(t, angle, error): \n",
      "\tI = []\n",
      "\tfor el in t:\n",
      "\t\tE = R(angle)*P*R(-angle)*R(pi/4.)*Q_error_p(error)*R(-pi/4.)*E1(el)\n",
      "\t\tI.append(E.conj().T*E)\n",
      "\treturn array(I)[:,0]"
     ],
     "language": "python",
     "metadata": {},
     "outputs": [],
     "prompt_number": 4
    },
    {
     "cell_type": "heading",
     "level": 3,
     "metadata": {},
     "source": [
      "Applying above Functions and Plotting them:"
     ]
    },
    {
     "cell_type": "code",
     "collapsed": false,
     "input": [
      "thetas_deg = linspace(0, 1200, 300)\n",
      "thetas_rad = thetas_deg*2*pi/360.\n",
      "\n",
      "V_without\t= []\n",
      "V_perfect \t= []\n",
      "V_plus \t\t= []\n",
      "\n",
      "for theta in thetas_rad:\n",
      "\tV_without.append(real(signal([0.0], theta)[0]))\n",
      "\tV_perfect.append(real(Q_error_plus([0.0], theta, 0)[0]))\n",
      "\tV_plus.append(real(Q_error_plus([0.0], theta, 2*pi/40.)[0]))\n",
      "\n",
      "def angle(time):\n",
      "\tscale = 180./0.15 # scaling factor resulting from motor speed/ rotation speed of the polarizer\n",
      "\treturn (array(time)-time[0])*scale\n",
      "\n",
      "def colorcycle():\n",
      "\tcolormap = plt.cm.gist_ncar\n",
      "\tnum_plots = 5\n",
      "\tplt.gca().set_color_cycle([colormap(i) for i in np.linspace(0, 0.9, num_plots)])"
     ],
     "language": "python",
     "metadata": {},
     "outputs": [],
     "prompt_number": 5
    },
    {
     "cell_type": "code",
     "collapsed": false,
     "input": [
      "figure()\n",
      "\n",
      "one = subplot(311)\n",
      "one.set_title(\"expectation\", style='italic', color = 'white',\n",
      "        bbox={'facecolor':'grey', 'alpha':0.5})\n",
      "colorcycle()\n",
      "color1 = cm.gist_ncar(0.75)\n",
      "\n",
      "one.set_xticks([])\n",
      "one.set_xlim(0,1200)\n",
      "one.set_ylim(0,1)\n",
      "one.set_yticks([0,1])\n",
      "\n",
      "plot(thetas_deg, V_without, label = r\"without $\\lambda/4$ plate\")\n",
      "plot(thetas_deg, V_perfect, label = r\"$\\lambda/4$ perfect\")\n",
      "plot(thetas_deg, V_plus, label = r\"$\\lambda/4 \\pm \\lambda/40$\")\n",
      "\n",
      "legend()\n",
      "two = subplot(312)\n",
      "two.set_title(\"experimental data\", style='italic', color = 'white',\n",
      "        bbox={'facecolor':'grey', 'alpha':0.5})\n",
      "colorcycle()\n",
      "two.set_xticks([])\n",
      "two.set_xlim(0,1200)\n",
      "two.set_ylim(0,1)\n",
      "two.set_yticks([0,1])\n",
      "\n",
      "plot(angle(pac.x[0]), array(pac.y[0])/max(pac.y[0]), label = r\"without $\\lambda/4$ plate\")\n",
      "plot(angle(pac.x[1])-40., array(pac.y[1])/max(pac.y[0])+1/2.,'--',lw =2, label = r\"with $\\lambda/4$ plate\", color = color1)\n",
      "\n",
      "legend()\n",
      "\n",
      "#### \n",
      "three = subplot(313)\n",
      "three.set_title(\"zoom into the wiggling\", style='italic', color = 'white',\n",
      "        bbox={'facecolor':'grey', 'alpha':0.5})\n",
      "colorcycle()\n",
      "\n",
      "wiggling = array(pac.y[1])+0.5\n",
      "three.set_xlim(0,1200)\n",
      "three.set_ylim(0.4,0.6)\n",
      "three.set_xlabel(r\"angle ($^\\circ$)\")\n",
      "\n",
      "V_t, V_40, V_100, V_320, V_200    = [], [], [], [], []\n",
      "\n",
      "for theta in thetas_rad:\n",
      "    V_t.append(real(Q_error_plus([0.0], theta, 2*pi/12.)[0]))\n",
      "    V_40.append(real(Q_error_plus([0.0], theta, 2*pi/40.)[0]))\n",
      "    V_100.append(real(Q_error_plus([0.0], theta, 2*pi/150.)[0]))\n",
      "    V_320.append(real(Q_error_plus([0.0], theta, 2*pi/320.)[0]))\n",
      "    V_200.append(real(Q_error_plus([0.0], theta, 2*pi/200.)[0]))\n",
      "\n",
      "plot(thetas_deg, V_t, label = r\"$\\lambda/4 \\pm \\lambda/12$\")\n",
      "plot(thetas_deg, V_40, label = r\"$\\lambda/4 \\pm \\lambda/40$\")\n",
      "plot(thetas_deg, V_100, label = r\"$\\lambda/4 \\pm \\lambda/150$\")\n",
      "plot(thetas_deg, V_320, label = r\"$\\lambda/4 \\pm \\lambda/320$\")\n",
      "\n",
      "plot(angle(pac.x[1])-80., wiggling,'--', lw =2,   color = color1, label = r\"data with $\\lambda/4$ plate\")\n",
      "\n",
      "legend()\n",
      "\n",
      "tight_layout()\n",
      "savefig('lambda_4_plate_error.png')\n",
      "show()\n",
      "\n",
      "print \"Wiggling Amplitude =\", max(wiggling)-min(wiggling)\n",
      "print \"L150 Amplitude =\", max(V_100)-min(V_100)\n",
      "print \"L320 Amplitude =\", max(V_320)-min(V_320)\n",
      "print \"L200 Amplitude =\", max(V_200)-min(V_200)"
     ],
     "language": "python",
     "metadata": {},
     "outputs": [
      {
       "output_type": "display_data",
       "png": "[encoded data removed]"
      },
      {
       "output_type": "stream",
       "stream": "stdout",
       "text": [
        "Wiggling Amplitude = 0.037186\n",
        "L150 Amplitude = [ 0.04187553]\n",
        "L320 Amplitude = [ 0.01963363]\n",
        "L200 Amplitude = [ 0.03141066]\n"
       ]
      }
     ],
     "prompt_number": 6
    },
    {
     "cell_type": "heading",
     "level": 2,
     "metadata": {},
     "source": [
      "##############################################################################################"
     ]
    },
    {
     "cell_type": "heading",
     "level": 1,
     "metadata": {},
     "source": [
      "Percentage of circular polarization with retardance error"
     ]
    },
    {
     "cell_type": "code",
     "collapsed": false,
     "input": [
      "from pylab import *\n",
      "#from numpy import *\n",
      "from sympy import *\n",
      "from sympy.physics.quantum import Dagger\n",
      "from sympy.abc import theta, epsilon\n",
      "import panna as p\n",
      "import numpy as np\n",
      "from math import pi\n",
      "import sympy "
     ],
     "language": "python",
     "metadata": {},
     "outputs": [],
     "prompt_number": 7
    },
    {
     "cell_type": "markdown",
     "metadata": {},
     "source": [
      "Polarization basis vectors:"
     ]
    },
    {
     "cell_type": "code",
     "collapsed": false,
     "input": [
      "lin_x = Matrix([[1],[0]])\n",
      "lin_y = Matrix([[0],[1]])\n",
      "sigma_plus  = 1/sqrt(2) * Matrix([[1],[1j]])\n",
      "sigma_minus = 1/sqrt(2) * Matrix([[1],[-1j]])\n",
      "k = 2*pi/(865.9e-9)"
     ],
     "language": "python",
     "metadata": {},
     "outputs": [],
     "prompt_number": 8
    },
    {
     "cell_type": "code",
     "collapsed": false,
     "input": [
      "# Rotation matrix:\n",
      "theta = Symbol('theta')\n",
      "R = lambda theta: Matrix([[cos(theta), sin(theta)],[-sin(theta), cos(theta)]])\n",
      "R(theta)"
     ],
     "language": "python",
     "metadata": {},
     "outputs": [
      {
       "latex": [
        "$$\\left(\\begin{smallmatrix}\\operatorname{cos}\\left(\\theta\\right) & \\operatorname{sin}\\left(\\theta\\right)\\\\- \\operatorname{sin}\\left(\\theta\\right) & \\operatorname{cos}\\left(\\theta\\right)\\end{smallmatrix}\\right)$$"
       ],
       "output_type": "pyout",
       "prompt_number": 9,
       "text": [
        "\n",
        "\u23a1cos(\u03b8)   sin(\u03b8)\u23a4\n",
        "\u23a2               \u23a5\n",
        "\u23a3-sin(\u03b8)  cos(\u03b8)\u23a6"
       ]
      }
     ],
     "prompt_number": 9
    },
    {
     "cell_type": "heading",
     "level": 4,
     "metadata": {},
     "source": [
      "Jones Matrix for a rotated waveplate with retardance error"
     ]
    },
    {
     "cell_type": "code",
     "collapsed": false,
     "input": [
      "# waveplate with retardance epsilon and error rotated to some angle:\n",
      "class waveplate:\n",
      "    def __init__(self, epsilon, error, angle):\n",
      "        self.epsilon = epsilon\n",
      "        self.error = error\n",
      "        self.angle = angle\n",
      "    def M(self):\n",
      "        # http://en.wikipedia.org/wiki/Jones_calculus \n",
      "        # retardance epsilon = pi for lambda/2; pi/2 for lambda/4\n",
      "        return R(-self.angle)*Matrix([[1,0],[0,sympy.exp(I*(self.epsilon+self.error))]])*R(self.angle)\n",
      "    def update_error(self, new_error):\n",
      "        self.error = new_error\n",
      "    def update_angle(self, new_angle):\n",
      "        self.angle = new_angle\n",
      "\n",
      "# del_x is the waveplate error in multiples of lambda, returned is the error in rad\n",
      "def err(del_x): \n",
      "    return del_x*2*pi\n",
      "\n",
      "def Norm(some):\n",
      "    return abs(complex(some[0]))**2"
     ],
     "language": "python",
     "metadata": {},
     "outputs": [],
     "prompt_number": 10
    },
    {
     "cell_type": "markdown",
     "metadata": {},
     "source": [
      "Often the retardance error is expressed in multiples of $\\lambda$. The retardance error in rad is calculated by using (--> err(del_x))\n",
      "$$ \\frac{\\Delta x}{\\lambda} = \\frac{\\Delta\\phi}{2\\pi}.$$"
     ]
    },
    {
     "cell_type": "markdown",
     "metadata": {},
     "source": [
      "Test of the ansatz for the quarterwave plate: \n",
      "\n",
      "For a quarterwave plate rotated to a 45\u00b0 (pi/4) angle without retardance error one should obtain circular polarization from linear incoming polarization. "
     ]
    },
    {
     "cell_type": "code",
     "collapsed": false,
     "input": [
      "wp4 = waveplate(pi/2, 0, pi/4)\n",
      "wp4.M(), wp4.M()*lin_x, Norm(Dagger(sigma_plus)*wp4.M()*lin_x), Norm(Dagger(sigma_minus)*wp4.M()*lin_x)"
     ],
     "language": "python",
     "metadata": {},
     "outputs": [
      {
       "latex": [
        "$$\\begin{pmatrix}\\left(\\begin{smallmatrix}0.5 + 0.5 e^{1.5707963267949 \\mathbf{\\imath}} & 0.5 - 0.5 e^{1.5707963267949 \\mathbf{\\imath}}\\\\0.5 - 0.5 e^{1.5707963267949 \\mathbf{\\imath}} & 0.5 + 0.5 e^{1.5707963267949 \\mathbf{\\imath}}\\end{smallmatrix}\\right), & \\left(\\begin{smallmatrix}0.5 + 0.5 e^{1.5707963267949 \\mathbf{\\imath}}\\\\0.5 - 0.5 e^{1.5707963267949 \\mathbf{\\imath}}\\end{smallmatrix}\\right), & 7.78554977865e-34, & 1.0\\end{pmatrix}$$"
       ],
       "output_type": "pyout",
       "prompt_number": 11,
       "text": [
        "(\n",
        "\u23a1           1.5707963267949\u22c5\u2148             1.5707963267949\u22c5\u2148\u23a4\n",
        "\u23a20.5 + 0.5\u22c5\u212f                   0.5 - 0.5\u22c5\u212f                 \u23a5\n",
        "\u23a2                                                          \u23a5\n",
        "\u23a2           1.5707963267949\u22c5\u2148             1.5707963267949\u22c5\u2148\u23a5\n",
        "\u23a30.5 - 0.5\u22c5\u212f                   0.5 + 0.5\u22c5\u212f                 \u23a6,\n",
        " \n",
        "\u23a1           1.5707963267949\u22c5\u2148\u23a4\n",
        "\u23a20.5 + 0.5\u22c5\u212f                 \u23a5\n",
        "\u23a2                            \u23a5\n",
        "\u23a2           1.5707963267949\u22c5\u2148\u23a5\n",
        "\u23a30.5 - 0.5\u22c5\u212f                 \u23a6,\n",
        " 7.785549778648357e-34,\n",
        " 1.0)"
       ]
      }
     ],
     "prompt_number": 11
    },
    {
     "cell_type": "markdown",
     "metadata": {},
     "source": [
      "The output numbers below show the percentage of circular polarization, resulting from the projection on $|\\sigma^+\\rangle$ and $|\\sigma^-\\rangle$ for linearly polarized input states:\n",
      "$$ |\\langle \\sigma^- | \\Lambda_4(\\epsilon, \\pi/4) | x\\rangle|^2 $$ "
     ]
    },
    {
     "cell_type": "code",
     "collapsed": false,
     "input": [
      "wp4 = waveplate(pi/2, 0, pi/4)\n",
      "wp4.M()\n",
      "\n",
      "Norm(Dagger(sigma_minus)*wp4.M()*lin_x),Norm(Dagger(sigma_plus)*wp4.M()*lin_x), Norm(Dagger(sigma_minus)*wp4.M()*lin_y), Norm(Dagger(sigma_plus)*wp4.M()*lin_y)"
     ],
     "language": "python",
     "metadata": {},
     "outputs": [
      {
       "latex": [
        "$$\\begin{pmatrix}1.0, & 7.78554977865e-34, & 1.03406084835e-32, & 1.0\\end{pmatrix}$$"
       ],
       "output_type": "pyout",
       "prompt_number": 12,
       "text": [
        "(1.0, 7.785549778648357e-34, 1.0340608483521217e-32, 1.0)"
       ]
      }
     ],
     "prompt_number": 12
    },
    {
     "cell_type": "code",
     "collapsed": false,
     "input": [
      "wp4.update_error(err(1/450))\n",
      "\n",
      "Norm(Dagger(sigma_minus)*wp4.M()*lin_x),Norm(Dagger(sigma_plus)*wp4.M()*lin_x), Norm(Dagger(sigma_minus)*wp4.M()*lin_y), Norm(Dagger(sigma_plus)*wp4.M()*lin_y)"
     ],
     "language": "python",
     "metadata": {},
     "outputs": [
      {
       "latex": [
        "$$\\begin{pmatrix}0.999951262005, & 4.87379953479e-05, & 4.87379953479e-05, & 0.999951262005\\end{pmatrix}$$"
       ],
       "output_type": "pyout",
       "prompt_number": 13,
       "text": [
        "(0.9999512620046518,\n",
        " 4.8737995347894314e-05,\n",
        " 4.873799534789355e-05,\n",
        " 0.9999512620046522)"
       ]
      }
     ],
     "prompt_number": 13
    },
    {
     "cell_type": "code",
     "collapsed": false,
     "input": [
      "wp4.update_error(err(1/200))\n",
      "\n",
      "Norm(Dagger(sigma_minus)*wp4.M()*lin_x),Norm(Dagger(sigma_plus)*wp4.M()*lin_x), Norm(Dagger(sigma_minus)*wp4.M()*lin_y), Norm(Dagger(sigma_plus)*wp4.M()*lin_y)"
     ],
     "language": "python",
     "metadata": {},
     "outputs": [
      {
       "latex": [
        "$$\\begin{pmatrix}0.999753280183, & 0.000246719817134, & 0.000246719817134, & 0.999753280183\\end{pmatrix}$$"
       ],
       "output_type": "pyout",
       "prompt_number": 14,
       "text": [
        "(0.9997532801828656,\n",
        " 0.00024671981713422206,\n",
        " 0.00024671981713422027,\n",
        " 0.9997532801828658)"
       ]
      }
     ],
     "prompt_number": 14
    },
    {
     "cell_type": "code",
     "collapsed": false,
     "input": [
      "wp4.update_error(err(1/12))\n",
      "\n",
      "Norm(Dagger(sigma_minus)*wp4.M()*lin_x),Norm(Dagger(sigma_plus)*wp4.M()*lin_x), Norm(Dagger(sigma_minus)*wp4.M()*lin_y), Norm(Dagger(sigma_plus)*wp4.M()*lin_y)"
     ],
     "language": "python",
     "metadata": {},
     "outputs": [
      {
       "latex": [
        "$$\\begin{pmatrix}0.933012701892, & 0.0669872981078, & 0.0669872981078, & 0.933012701892\\end{pmatrix}$$"
       ],
       "output_type": "pyout",
       "prompt_number": 15,
       "text": [
        "(0.9330127018922192,\n",
        " 0.06698729810778063,\n",
        " 0.0669872981077806,\n",
        " 0.9330127018922194)"
       ]
      }
     ],
     "prompt_number": 15
    },
    {
     "cell_type": "code",
     "collapsed": false,
     "input": [
      "wp4.update_error(err(1/150))\n",
      "\n",
      "Norm(Dagger(sigma_minus)*wp4.M()*lin_x),Norm(Dagger(sigma_plus)*wp4.M()*lin_x), Norm(Dagger(sigma_minus)*wp4.M()*lin_y), Norm(Dagger(sigma_plus)*wp4.M()*lin_y)"
     ],
     "language": "python",
     "metadata": {},
     "outputs": [
      {
       "latex": [
        "$$\\begin{pmatrix}0.999561415049, & 0.000438584950571, & 0.000438584950571, & 0.999561415049\\end{pmatrix}$$"
       ],
       "output_type": "pyout",
       "prompt_number": 16,
       "text": [
        "(0.999561415049429,\n",
        " 0.000438584950570826,\n",
        " 0.00043858495057082366,\n",
        " 0.9995614150494292)"
       ]
      }
     ],
     "prompt_number": 16
    },
    {
     "cell_type": "code",
     "collapsed": false,
     "input": [],
     "language": "python",
     "metadata": {},
     "outputs": [],
     "prompt_number": 16
    }
   ],
   "metadata": {}
  }
 ]
}