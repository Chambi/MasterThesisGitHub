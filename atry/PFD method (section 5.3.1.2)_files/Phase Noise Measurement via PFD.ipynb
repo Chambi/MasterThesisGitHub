{
 "metadata": {
  "name": "Phase Noise Measurement via PFD"
 },
 "nbformat": 3,
 "nbformat_minor": 0,
 "worksheets": [
  {
   "cells": [
    {
     "cell_type": "heading",
     "level": 1,
     "metadata": {},
     "source": [
      "Phase Noise Measurement via PFD"
     ]
    },
    {
     "cell_type": "markdown",
     "metadata": {},
     "source": [
      "If two input signals to the Phase Frequency Discriminator are frequency locked, the error voltage provided by the PFD is proportional to their phase difference. \n",
      "This can be used to obtain the phase noise spectral density\n",
      "\n",
      "$$ S_\\phi(f) = | \\mathcal F \\lbrace \\phi (t) \\rbrace |^2 $$\n",
      "\n",
      "by measurement of the power spectral density of the output signal with a spectrum analyzer\n",
      "\n",
      "$$ S_V(f) = | \\mathcal F \\lbrace V(t) \\rbrace |^2 . $$\n",
      "\n",
      "One advantage of this method compared to the beat signal method is that no carrier is present since for zero phase difference the voltage drops to zero as well. This avoids large requirements on the dynamic range of the spectrum analyzer. Furthermore, the output signal of the PFD shows only phase fluctuations between the signals and has no sensitivity to amplitude fluctuations. \n",
      "\n",
      "On the other hand the measurement takes now place in the region around 0 Hz of the spectrum analyzer, where the device has a large intrinsic $1/f$ noise peak.\n",
      "\n",
      "Hence in this method a low noise preamplifier $\\triangleright$ is used. To obtain a meaningful result the noise floor of the spectrum analyzer and preamplifier and the amplification factor $\\triangleright$ have to be taken into account in the analysis.\n",
      "\n",
      "The amplification constant of the low noise preamplifier can be measured by e.g. generating a low frequency (~200 kHz) sinusodial signal and observing one time the amplified version and one time the unamplified version on the spectrum analyzer. The amplification can then be read of in dB.\n",
      "\n",
      "Measurement of the system noise floor is done by termination of the amplifier input with the input impedance 50 $\\Omega$ of the amplifier. The noise spectrum is recorded, so that it can be substracted from the measured phase noise spectrum. \n",
      "\n",
      "$$ S_V(f) = | \\mathcal F \\lbrace \\phi(t) \\cdot K_\\phi \\cdot \\triangleright \\rbrace |^2 = K_\\phi^2 \\cdot \\triangleright^2 \\cdot |\\mathcal F \\lbrace \\phi(t) \\rbrace|^2 .$$\n",
      "\n",
      "To obtain the power spectral density with a high resolution and normalized to a 1 Hz bandwidth, several spectra with different spans are recorded and combined as shown in section \\ref{SECTION}.\n",
      "\n",
      "Finally the rms phase noise $\\langle \\phi \\rangle$ is obtained by considering that it is connected to the spectral distribution by integration \\footnote{Actually the filter used by the spectrum analyzer is of a Gaussian form with a width given by the resolution bandwidth. The peak at 0 Hz will therefore \"mask\" the phase noise in this region, i.e. the spectral distribution will always be the one of the filter shape. Taking this into account, the integration does not involve the lower limit at 0 Hz, but starts from 1.2 Hz.}\n",
      "\n",
      "$$ \\langle \\phi \\rangle =\\sqrt{ \\int_{-\\infty}^\\infty S_\\phi(f) df  }=\\sqrt{ 2 \\cdot \\int_0^\\infty  S_\\phi(f) df }.$$\n",
      "\n",
      "Since the PFD measures the phase difference between the two input channels, the rms deviation $\\langle \\phi \\rangle$ is given by contributions of local oscillator and reference:\n",
      "\n",
      "$$ \\langle \\phi \\rangle = \\sqrt{ \\langle \\phi_{LO}\\rangle^2 + \\langle \\phi_{RF} \\rangle^2 }.$$"
     ]
    },
    {
     "cell_type": "code",
     "collapsed": false,
     "input": [
      "### The files containing the data for the joined function from the system floor and phase noise measurement\n",
      "# need to be placed in the same folder as the .py or .ipynb file\n",
      "\n",
      "# import package for plotting:\n",
      "from pylab import * \n",
      "# import package used for read out of files contained in folder:\n",
      "import panna as p \n",
      "# show indices by which all *.csv files in the folder can be accessed\n",
      "p.show_n()"
     ],
     "language": "python",
     "metadata": {},
     "outputs": [
      {
       "output_type": "stream",
       "stream": "stdout",
       "text": [
        "access file  joined_LF_data.csv  via index  0\n",
        "access file  joined_LF_floor.csv  via index  1\n",
        "access file "
       ]
      },
      {
       "output_type": "stream",
       "stream": "stdout",
       "text": [
        " joined_LF_data.csv  via index  0\n",
        "access file  joined_LF_floor.csv  via index  1\n"
       ]
      }
     ],
     "prompt_number": 1
    },
    {
     "cell_type": "code",
     "collapsed": false,
     "input": [
      "### Insert values for PFD- and amplication-constant and indices for data files###\n",
      "\n",
      "# Phase Detector Constant of 22 mV / degree in Volt/rad:\n",
      "K_phi = 180/pi*273e-3 \n",
      "# amplification in dB\n",
      "amplifier = 40.0 \n",
      "# index of the data file that contains the system floor (read off from output from last cell)\n",
      "ifloor = 1\n",
      "# index of the data file that contains the phase noise measurement (read off from output from last cell)\n",
      "iphase = 0"
     ],
     "language": "python",
     "metadata": {},
     "outputs": [],
     "prompt_number": 23
    },
    {
     "cell_type": "code",
     "collapsed": false,
     "input": [
      "### Calculation of Phase Noise Spectrum after substracting the floor, amplifier, K_phi\n",
      "y_res\t= 10*log10(abs(10**(array(p.y[iphase])/10.) - 10**(array(p.y[ifloor])/10.))) - 20*log10(K_phi)-amplifier\n",
      "y_res_lin = 10**(y_res/10.)\n",
      "x_res\t= p.x[iphase]"
     ],
     "language": "python",
     "metadata": {},
     "outputs": [],
     "prompt_number": 24
    },
    {
     "cell_type": "code",
     "collapsed": false,
     "input": [
      "n = p.number_of_files()\n",
      "\n",
      "# integration limits: see footnote in text\n",
      "xmin = 1.2 # Hz\n",
      "xmax = 1e6 # Hz\n",
      "\n",
      "x, y, y_lin, start, stop, phi = [0]*n,[0]*n,[0]*n,[0]*n,[0]*n,[0]*n"
     ],
     "language": "python",
     "metadata": {},
     "outputs": [],
     "prompt_number": 25
    },
    {
     "cell_type": "code",
     "collapsed": false,
     "input": [
      "########## Step 1: plot all found input data ############\n",
      "figure(1)\n",
      "p.colorcycle(n+1)\n",
      "for i in arange(0,n): \n",
      "\tplot(p.x[i], p.y[i], label = str(i))\n",
      "\n",
      "plot(x_res, y_res, label = r\"$S_\\phi\\ [dB rad^2/Hz]$\")\n",
      "\n",
      "legend()\n",
      "xlabel(\"offset frequency [Hz]\") \n",
      "ylabel(\"amplitude [dBm/Hz]\")\n",
      "p.grey_title(\"comparison_step_1_plot_input_data\")\n",
      "savefig(\"comparison_step_1_plot_input_data.png\")\n",
      "show()"
     ],
     "language": "python",
     "metadata": {},
     "outputs": [],
     "prompt_number": 26
    },
    {
     "cell_type": "code",
     "collapsed": false,
     "input": [
      "######### Step 2: find integration limits ############\n",
      "for i in arange(0,n): \n",
      "\t######## on linear range #############\n",
      "\ty_lin[i] = [pow(10, element/10.0) for element in p.y[i]] \n",
      "\t######## find integration limits ############\n",
      "\tstart[i] \t= p.find_nearest(p.x[i], xmin)\n",
      "\tstop[i] \t= p.find_nearest(p.x[i], xmax)\t\n",
      "\n",
      "y_res_lin = [pow(10, element/10.0) for element in y_res] \n",
      "\n",
      "######## find integration limits ############\n",
      "start[i] \t= p.find_nearest(x_res, xmin)\n",
      "stop[i] \t= p.find_nearest(x_res, xmax)\n",
      "\n",
      "center\t= 0"
     ],
     "language": "python",
     "metadata": {},
     "outputs": [],
     "prompt_number": 27
    },
    {
     "cell_type": "code",
     "collapsed": false,
     "input": [
      "####### Step 3: Find the phase noise by integration ##########\n",
      "for i in arange(0,n): \n",
      "\t### \n",
      "\tphi[i]\t= sqrt(2*abs(np.trapz(y_lin[i][start[i]:stop[i]], p.x[i][start[i]:stop[i]])))\n",
      "\tprint str(i) \n",
      "\tprint \"power spectral density ---> phase noise = \",round(phi[i],5),\"rad (\",round(phi[i]/pi*180.0,3),\"deg)\"\n",
      "\n",
      "phi_res = sqrt(2*abs(np.trapz(y_res_lin[start[i]:stop[i]], x_res[start[i]:stop[i]])))\n",
      "print \"S_phi (Resulting function):\" \n",
      "print \"power spectral density ---> phase noise = \",round(phi_res,5),\"rad (\",round(phi_res/pi*180.0,3),\"deg)\"\n",
      "\n",
      "### put output into latex form ###\n",
      "\n",
      "FILE_results = open('results.tex', \"w\")\n",
      "\n",
      "results = []\n",
      "i = 0\n",
      "for i in arange(0,n):\n",
      "\tresults.append(str(i))\n",
      "\tresults.append(\"\tpower spectral density ---> phase noise = \"+str(round(phi[i],5))+\"rad (\"+str(round(phi[i]/pi*180.0,3))+\"deg)\")\n",
      "\tresults.append(\" \")\n",
      "\n",
      "results.append(\"S_phi_res\")\n",
      "results.append(\"\tpower spectral density ---> phase noise = \"+str(round(phi_res,5))+\"rad (\"+str(round(phi_res/pi*180.0,3))+\"deg)\")\n",
      "results.append(\" \")\n",
      "\n",
      "for item in results:\n",
      "\tprint >> FILE_results, item"
     ],
     "language": "python",
     "metadata": {},
     "outputs": [
      {
       "output_type": "stream",
       "stream": "stdout",
       "text": [
        "0\n",
        "power spectral density ---> phase noise =  1.00016 rad ( 57.305 deg)\n",
        "1\n",
        "power spectral density ---> phase noise =  0.05338 rad ( 3.058 deg)\n",
        "S_phi (Resulting function):\n",
        "power spectral density ---> phase noise =  0.00064 rad ( 0.037 deg)\n"
       ]
      }
     ],
     "prompt_number": 28
    },
    {
     "cell_type": "code",
     "collapsed": false,
     "input": [
      "### Step 4: plot in logscale ###\n",
      "figure(2)\n",
      "p.colorcycle(n+1)\n",
      "for i in arange(0,n): \n",
      "\tplot(p.x[i], p.y[i], label = str(i))\n",
      "\n",
      "plot(x_res, y_res, label = r\"$S_\\phi\\ [dB rad^2/Hz]$\")\n",
      "\n",
      "xscale(\"log\")\n",
      "xlim(0.6, 2.5e6)\n",
      "\n",
      "grid(True, which = 'both')\n",
      "legend()\n",
      "xlabel(\"Offset Frequency [Hz]\") \n",
      "ylabel(r\"Phase Noise [dB rad$^2$/Hz]\")\n",
      "p.grey_title(\"Phase Noise Spectrum\")\n",
      "savefig(\"comparison_step_4_plot_input_data.png\")\n",
      "show()\n",
      "\n",
      "#### Step 5: Output the resulting S_phi_res function into a file\n",
      "FILE_my_joined = open('PFD_ResultSPHI.csv', \"w\")\n",
      "my_try = []\n",
      "for i in range(0,len(x_res)):\n",
      "\tmy_try.append(str(x_res[i])+\",\"+str(y_res[i]))\n",
      "\n",
      "for item in my_try:\n",
      "\tprint >> FILE_my_joined, item"
     ],
     "language": "python",
     "metadata": {},
     "outputs": [],
     "prompt_number": 30
    },
    {
     "cell_type": "code",
     "collapsed": false,
     "input": [],
     "language": "python",
     "metadata": {},
     "outputs": []
    }
   ],
   "metadata": {}
  }
 ]
}