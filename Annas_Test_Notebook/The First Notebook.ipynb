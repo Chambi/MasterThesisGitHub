{
 "metadata": {
  "name": "The First Notebook"
 },
 "nbformat": 3,
 "nbformat_minor": 0,
 "worksheets": [
  {
   "cells": [
    {
     "cell_type": "heading",
     "level": 1,
     "metadata": {},
     "source": [
      "Try Out Notebook"
     ]
    },
    {
     "cell_type": "markdown",
     "metadata": {},
     "source": [
      "lalala\n",
      "$$ \\int f(x) dx $$ "
     ]
    },
    {
     "cell_type": "code",
     "collapsed": false,
     "input": [
      "from pylab import *\n",
      "from numpy import *\n",
      "\n",
      "x = linspace(0,10,100) # x contains numbers from 0 to 10 in 100 steps\n",
      "y = sin(2*x) \n",
      "\n",
      "figure()\n",
      "plot(x,y, label = \" a beautiful $\\sin(x)$\")\n",
      "show()"
     ],
     "language": "python",
     "metadata": {},
     "outputs": [
      {
       "output_type": "display_data",
       "png": "[encoded data removed]"
      }
     ],
     "prompt_number": 95
    },
    {
     "cell_type": "heading",
     "level": 4,
     "metadata": {},
     "source": [
      "sadfasdf lalla works fine "
     ]
    },
    {
     "cell_type": "code",
     "collapsed": false,
     "input": [
      "from sympy import Rational\n",
      "from sympy.abc import tau, mu\n",
      "from sympy import *\n",
      "from IPython.core.display import Math"
     ],
     "language": "python",
     "metadata": {},
     "outputs": [],
     "prompt_number": 96
    },
    {
     "cell_type": "code",
     "collapsed": false,
     "input": [
      "Math(latex((2*tau)**Rational(7,2)))"
     ],
     "language": "python",
     "metadata": {},
     "outputs": [
      {
       "latex": [
        "$$8 \\sqrt{2} \\tau^{\\frac{7}{2}}$$"
       ],
       "output_type": "pyout",
       "prompt_number": 97,
       "text": [
        "<IPython.core.display.Math object at 0x055FAA90>"
       ]
      }
     ],
     "prompt_number": 97
    },
    {
     "cell_type": "heading",
     "level": 2,
     "metadata": {},
     "source": [
      "Sympy Try Out"
     ]
    },
    {
     "cell_type": "code",
     "collapsed": false,
     "input": [
      "M = matrix([[1,2],[3,4]])\n",
      "L = eye(2)\n",
      "M*L"
     ],
     "language": "python",
     "metadata": {},
     "outputs": [
      {
       "latex": [
        "$$\\left(\\begin{smallmatrix}1 & 2\\\\3 & 4\\end{smallmatrix}\\right)$$"
       ],
       "output_type": "pyout",
       "prompt_number": 98,
       "text": [
        "\n",
        "\u23a11  2\u23a4\n",
        "\u23a2    \u23a5\n",
        "\u23a33  4\u23a6"
       ]
      }
     ],
     "prompt_number": 98
    },
    {
     "cell_type": "code",
     "collapsed": false,
     "input": [
      "from sympy.abc import theta, beta, epsilon, phi\n",
      "from sympy import cos, sin, exp, simplify, Matrix, I\n",
      "import sympy\n",
      "C = lambda beta: cos(beta)\n",
      "C\n"
     ],
     "language": "python",
     "metadata": {},
     "outputs": [
      {
       "output_type": "pyout",
       "prompt_number": 99,
       "text": [
        "<function __main__.<lambda>>"
       ]
      }
     ],
     "prompt_number": 99
    },
    {
     "cell_type": "code",
     "collapsed": false,
     "input": [
      "beta = pi/4.\n",
      "C(beta)"
     ],
     "language": "python",
     "metadata": {},
     "outputs": [
      {
       "latex": [
        "$$\\operatorname{cos}\\left(0.25 \\pi\\right)$$"
       ],
       "output_type": "pyout",
       "png": "[encoded data removed]",
       "prompt_number": 100,
       "text": [
        "cos(0.25\u22c5\u03c0)"
       ]
      }
     ],
     "prompt_number": 100
    },
    {
     "cell_type": "code",
     "collapsed": false,
     "input": [
      "N(C(beta))"
     ],
     "language": "python",
     "metadata": {},
     "outputs": [
      {
       "latex": [
        "$$0.707106781186548$$"
       ],
       "output_type": "pyout",
       "png": "[encoded data removed]",
       "prompt_number": 101,
       "text": [
        "0.707106781186548"
       ]
      }
     ],
     "prompt_number": 101
    },
    {
     "cell_type": "heading",
     "level": 2,
     "metadata": {},
     "source": [
      "Jones Matrices"
     ]
    },
    {
     "cell_type": "code",
     "collapsed": false,
     "input": [
      "R = lambda theta: sympy.Matrix([[cos(theta), sin(theta)],[-sin(theta), cos(theta)]])\n",
      "R(theta)"
     ],
     "language": "python",
     "metadata": {},
     "outputs": [
      {
       "latex": [
        "$$\\left(\\begin{smallmatrix}\\operatorname{cos}\\left(\\theta\\right) & \\operatorname{sin}\\left(\\theta\\right)\\\\- \\operatorname{sin}\\left(\\theta\\right) & \\operatorname{cos}\\left(\\theta\\right)\\end{smallmatrix}\\right)$$"
       ],
       "output_type": "pyout",
       "prompt_number": 102,
       "text": [
        "\n",
        "\u23a1cos(\u03b8)   sin(\u03b8)\u23a4\n",
        "\u23a2               \u23a5\n",
        "\u23a3-sin(\u03b8)  cos(\u03b8)\u23a6"
       ]
      }
     ],
     "prompt_number": 102
    },
    {
     "cell_type": "code",
     "collapsed": false,
     "input": [
      "P = sympy.Matrix([[1,0],[0,0]])\n",
      "P"
     ],
     "language": "python",
     "metadata": {},
     "outputs": [
      {
       "latex": [
        "$$\\left(\\begin{smallmatrix}1 & 0\\\\0 & 0\\end{smallmatrix}\\right)$$"
       ],
       "output_type": "pyout",
       "prompt_number": 103,
       "text": [
        "\n",
        "\u23a11  0\u23a4\n",
        "\u23a2    \u23a5\n",
        "\u23a30  0\u23a6"
       ]
      }
     ],
     "prompt_number": 103
    },
    {
     "cell_type": "code",
     "collapsed": false,
     "input": [
      "Pol = lambda theta: R(-theta)*P*R(theta)\n",
      "Pol(theta)"
     ],
     "language": "python",
     "metadata": {},
     "outputs": [
      {
       "latex": [
        "$$\\left(\\begin{smallmatrix}\\operatorname{cos}^{2}\\left(\\theta\\right) & \\operatorname{sin}\\left(\\theta\\right) \\operatorname{cos}\\left(\\theta\\right)\\\\\\operatorname{sin}\\left(\\theta\\right) \\operatorname{cos}\\left(\\theta\\right) & \\operatorname{sin}^{2}\\left(\\theta\\right)\\end{smallmatrix}\\right)$$"
       ],
       "output_type": "pyout",
       "prompt_number": 104,
       "text": [
        "\n",
        "\u23a1      2                     \u23a4\n",
        "\u23a2   cos (\u03b8)     sin(\u03b8)\u22c5cos(\u03b8)\u23a5\n",
        "\u23a2                            \u23a5\n",
        "\u23a2                     2      \u23a5\n",
        "\u23a3sin(\u03b8)\u22c5cos(\u03b8)     sin (\u03b8)   \u23a6"
       ]
      }
     ],
     "prompt_number": 104
    },
    {
     "cell_type": "code",
     "collapsed": false,
     "input": [
      "sigma_plus  = 1/sqrt(2) * sympy.Matrix([[1],[1j]])\n",
      "sigma_minus = 1/sqrt(2) * sympy.Matrix([[1],[-1j]])\n",
      "lin_x = sympy.Matrix([[1],[0]])\n",
      "lin_y = sympy.Matrix([[0],[1]])\n",
      "sigma_plus.transpose().conjugate()"
     ],
     "language": "python",
     "metadata": {},
     "outputs": [
      {
       "latex": [
        "$$\\left(\\begin{smallmatrix}\\frac{1}{2} \\sqrt{2} & - 0.5 \\sqrt{2} \\mathbf{\\imath}\\end{smallmatrix}\\right)$$"
       ],
       "output_type": "pyout",
       "prompt_number": 105,
       "text": [
        "\n",
        "\u23a1  \u23bd\u23bd\u23bd              \u23a4\n",
        "\u23a2\u2572\u2571 2          \u23bd\u23bd\u23bd  \u23a5\n",
        "\u23a2\u2500\u2500\u2500\u2500\u2500  -0.5\u22c5\u2572\u2571 2 \u22c5\u2148\u23a5\n",
        "\u23a3  2                \u23a6"
       ]
      }
     ],
     "prompt_number": 105
    },
    {
     "cell_type": "code",
     "collapsed": false,
     "input": [
      "def dagger(matrix):\n",
      "    return matrix.transpose().conjugate()\n",
      "dagger(sigma_plus)"
     ],
     "language": "python",
     "metadata": {},
     "outputs": [
      {
       "latex": [
        "$$\\left(\\begin{smallmatrix}\\frac{1}{2} \\sqrt{2} & - 0.5 \\sqrt{2} \\mathbf{\\imath}\\end{smallmatrix}\\right)$$"
       ],
       "output_type": "pyout",
       "prompt_number": 106,
       "text": [
        "\n",
        "\u23a1  \u23bd\u23bd\u23bd              \u23a4\n",
        "\u23a2\u2572\u2571 2          \u23bd\u23bd\u23bd  \u23a5\n",
        "\u23a2\u2500\u2500\u2500\u2500\u2500  -0.5\u22c5\u2572\u2571 2 \u22c5\u2148\u23a5\n",
        "\u23a3  2                \u23a6"
       ]
      }
     ],
     "prompt_number": 106
    },
    {
     "cell_type": "code",
     "collapsed": false,
     "input": [
      "wave_plate = lambda theta, epsilon: R(-theta)*sympy.Matrix([[1,0],[0,sympy.exp(I*epsilon)]])*R(theta)\n",
      "(wave_plate(pi/4.,pi/2)*sympy.Matrix([[1],[0]])).evalf()"
     ],
     "language": "python",
     "metadata": {},
     "outputs": [
      {
       "latex": [
        "$$\\left(\\begin{smallmatrix}0.5 + 0.5 \\mathbf{\\imath}\\\\0.5 - 0.5 \\mathbf{\\imath}\\end{smallmatrix}\\right)$$"
       ],
       "output_type": "pyout",
       "prompt_number": 107,
       "text": [
        "\n",
        "\u23a10.5 + 0.5\u22c5\u2148\u23a4\n",
        "\u23a2           \u23a5\n",
        "\u23a30.5 - 0.5\u22c5\u2148\u23a6"
       ]
      }
     ],
     "prompt_number": 107
    },
    {
     "cell_type": "code",
     "collapsed": false,
     "input": [
      "E_sigma_minus = lambda theta, beta, epsilon: Pol(theta)*wave_plate(beta, epsilon)*(lin_y)\n",
      "E_sigma_plus = lambda phi, theta, beta, epsilon: Pol(theta)*wave_plate(beta, epsilon)*(sympy.exp(I*phi)*lin_x)\n",
      "E_final = lambda phi, theta, beta, epsilon: E_sigma_plus(phi, theta, beta, epsilon) + E_sigma_minus(theta, beta, epsilon)\n",
      "#E_final(0.0,0.0, pi/4, pi/2)"
     ],
     "language": "python",
     "metadata": {},
     "outputs": [],
     "prompt_number": 108
    },
    {
     "cell_type": "code",
     "collapsed": false,
     "input": [
      "#E_final = lambda phi, theta, beta, epsilon: Pol(theta)*wave_plate(beta, epsilon)*(sympy.exp(I*phi)*lin_x + lin_y)\n",
      "I_final = lambda phi, theta, beta, epsilon: dagger(E_final(phi,theta,beta,epsilon))*E_final(phi,theta,beta,epsilon)\n",
      "#I_final(phi, theta, beta, epsilon)\n",
      "#I*2"
     ],
     "language": "python",
     "metadata": {},
     "outputs": [],
     "prompt_number": 109
    },
    {
     "cell_type": "code",
     "collapsed": false,
     "input": [
      "hey = linspace(0,2*pi,40)\n",
      "I_meas = []\n",
      "for angle in hey:\n",
      "    # for plotting the symbols have to be casted to actual numbers:\n",
      "    I_meas.append(real(complex(I_final(angle, pi/4, 0.0, pi/2)[0])))\n",
      "\n",
      "\n",
      "figure()\n",
      "plot(hey,I_meas, '--')\n",
      "show()"
     ],
     "language": "python",
     "metadata": {},
     "outputs": [
      {
       "output_type": "display_data",
       "png": "[encoded data removed]"
      }
     ],
     "prompt_number": 110
    },
    {
     "cell_type": "heading",
     "level": 3,
     "metadata": {},
     "source": [
      "Imperfect Overlap"
     ]
    },
    {
     "cell_type": "markdown",
     "metadata": {},
     "source": [
      "Since the oscillating term in the intensity calculation is $\\propto E_{\\sigma^+}^\\dagger E_{\\sigma^-} $ it will only be non-zero where the beams spatially overlap. An imperfect overlap can be taken into account by a factor $\\eta = \\int_{dA} d^2 r E_{\\sigma^+}^\\dagger(r) E_{\\sigma^-}(r)$. Only the overlapped part of the $\\sigma^+$, $\\sigma^-$ beam will lead to a resulting linear polarization, that can be turned by changing one beams phase."
     ]
    },
    {
     "cell_type": "heading",
     "level": 3,
     "metadata": {},
     "source": [
      "Intensity Imbalance"
     ]
    },
    {
     "cell_type": "markdown",
     "metadata": {},
     "source": [
      "The amplitude of the beat signal produced by the partially spatially ($\\eta$) overlapped signals is $ 2\\sqrt{\\eta P_1 P_2}$. The DC part is $P_1 + P_2$. \n",
      "The resulting Modulation depth $ MD = \\frac{I_{max}-I_{min}}{I_{max}+I_{min}} = \\frac{2\\sqrt{\\eta P_1 P_2}}{P_1 + P_2} $."
     ]
    },
    {
     "cell_type": "heading",
     "level": 3,
     "metadata": {},
     "source": [
      "$\\lambda/4$-plate"
     ]
    },
    {
     "cell_type": "heading",
     "level": 6,
     "metadata": {},
     "source": [
      "Alignment"
     ]
    },
    {
     "cell_type": "heading",
     "level": 3,
     "metadata": {},
     "source": [
      "Amplitude fluctuation"
     ]
    },
    {
     "cell_type": "heading",
     "level": 3,
     "metadata": {},
     "source": [
      "Phase fluctuation"
     ]
    },
    {
     "cell_type": "heading",
     "level": 6,
     "metadata": {},
     "source": [
      "waveplate class"
     ]
    },
    {
     "cell_type": "code",
     "collapsed": false,
     "input": [
      "class waveplate:\n",
      "    def __init__(self, epsilon, error, angle):\n",
      "        self.epsilon = epsilon\n",
      "        self.error = error\n",
      "        self.angle = angle\n",
      "    def M(self):\n",
      "        return R(-self.angle)*sympy.Matrix([[1,0],[0,sympy.exp(I*(self.epsilon+self.error))]])*R(self.angle)\n",
      "    def update_error(self, new_error):\n",
      "        self.error = new_error\n",
      "    def update_angle(self, new_angle):\n",
      "        self.angle = new_angle"
     ],
     "language": "python",
     "metadata": {},
     "outputs": [],
     "prompt_number": 111
    },
    {
     "cell_type": "code",
     "collapsed": false,
     "input": [
      "wp = waveplate(pi/2, 0, pi/4)\n",
      "wp.M() # below this gives the matrix of a right circular polarizer"
     ],
     "language": "python",
     "metadata": {},
     "outputs": [
      {
       "latex": [
        "$$\\left(\\begin{smallmatrix}\\frac{1}{2} + \\frac{1}{2} \\mathbf{\\imath} & \\frac{1}{2} - \\frac{1}{2} \\mathbf{\\imath}\\\\\\frac{1}{2} - \\frac{1}{2} \\mathbf{\\imath} & \\frac{1}{2} + \\frac{1}{2} \\mathbf{\\imath}\\end{smallmatrix}\\right)$$"
       ],
       "output_type": "pyout",
       "prompt_number": 112,
       "text": [
        "\n",
        "\u23a11   \u2148  1   \u2148\u23a4\n",
        "\u23a2\u2500 + \u2500  \u2500 - \u2500\u23a5\n",
        "\u23a22   2  2   2\u23a5\n",
        "\u23a2            \u23a5\n",
        "\u23a21   \u2148  1   \u2148\u23a5\n",
        "\u23a2\u2500 - \u2500  \u2500 + \u2500\u23a5\n",
        "\u23a32   2  2   2\u23a6"
       ]
      }
     ],
     "prompt_number": 112
    },
    {
     "cell_type": "code",
     "collapsed": false,
     "input": [
      "wp.update_error(pi/2)\n",
      "wp.M() # half wave plate with fast axis at angle 45\u00b0 w.r.t the horizontal axis"
     ],
     "language": "python",
     "metadata": {},
     "outputs": [
      {
       "latex": [
        "$$\\left(\\begin{smallmatrix}0 & 1\\\\1 & 0\\end{smallmatrix}\\right)$$"
       ],
       "output_type": "pyout",
       "prompt_number": 113,
       "text": [
        "\n",
        "\u23a10  1\u23a4\n",
        "\u23a2    \u23a5\n",
        "\u23a31  0\u23a6"
       ]
      }
     ],
     "prompt_number": 113
    },
    {
     "cell_type": "code",
     "collapsed": false,
     "input": [
      "wp.update_angle(0.0)\n",
      "wp.M() # now the half wave plate has 0\u00b0 w.r.t the horizontal axis (checked with wikipedia - Jones Calculus)"
     ],
     "language": "python",
     "metadata": {},
     "outputs": [
      {
       "latex": [
        "$$\\left(\\begin{smallmatrix}1 & 0\\\\0 & -1\\end{smallmatrix}\\right)$$"
       ],
       "output_type": "pyout",
       "prompt_number": 114,
       "text": [
        "\n",
        "\u23a11  0 \u23a4\n",
        "\u23a2     \u23a5\n",
        "\u23a30  -1\u23a6"
       ]
      }
     ],
     "prompt_number": 114
    },
    {
     "cell_type": "code",
     "collapsed": false,
     "input": [
      "class polarizer:\n",
      "    def __init__(self, angle):\n",
      "        self.angle = angle\n",
      "    def M(self):\n",
      "        return R(-angle)*sympy.Matrix([[1,0],[0,0]])*R(angle)\n",
      "    def update_angle(self,new_angle):\n",
      "        self.angle = new_angle"
     ],
     "language": "python",
     "metadata": {},
     "outputs": [],
     "prompt_number": 130
    },
    {
     "cell_type": "code",
     "collapsed": false,
     "input": [
      "Quarter = waveplate(pi/2, 0, pi/4)\n",
      "Pol = polarizer(0.0)\n",
      "el = lambda Quarter, Pol: Pol.M()*Quarter.M()"
     ],
     "language": "python",
     "metadata": {},
     "outputs": [],
     "prompt_number": 131
    },
    {
     "cell_type": "code",
     "collapsed": false,
     "input": [
      "E_final = lambda Quarter, Pol, phi: el(Quarter, Pol)*(lin_y+sympy.exp(I*phi)*lin_x)\n",
      "I_final = lambda Quarter, Pol, phi: dagger(E_final(Quarter, Pol, phi))*E_final(Quarter, Pol, phi)"
     ],
     "language": "python",
     "metadata": {},
     "outputs": [],
     "prompt_number": 135
    },
    {
     "cell_type": "code",
     "collapsed": false,
     "input": [
      "figure()\n",
      "subplot(121)\n",
      "polarizer_angles = linspace(0,2*pi,40)\n",
      "I_meas = []\n",
      "I_single = []\n",
      "for angle in polarizer_angles:\n",
      "    Pol.update_angle(angle)\n",
      "    I_meas.append(real(complex(I_final(Quarter, Pol, 0.0)[0])))\n",
      "    I_single.append(complex( (dagger(el(Quarter, Pol)*lin_y)*(el(Quarter, Pol)*lin_y))[0] ) ) \n",
      "plot(polarizer_angles,I_meas, '--', label = \"Linear Polarization\")\n",
      "plot(polarizer_angles, I_single, '--', label = \"DC One Channel\")\n",
      "plot(polarizer_angles, 2*array(I_single), '--', label =\"DC both Channels\")\n",
      "title(\"Rotation of Polarizer\")\n",
      "legend() \n",
      "\n",
      "subplot(122)\n",
      "phi_angles = linspace(0,2*pi,40)\n",
      "I_meas = []\n",
      "for angle in phi_angles:\n",
      "    I_meas.append(real(complex(I_final(Quarter, Pol, angle)[0])))\n",
      "plot(phi_angles,I_meas, '--')\n",
      "title(\"Phase Change in One Channel\")\n",
      "show()"
     ],
     "language": "python",
     "metadata": {},
     "outputs": [
      {
       "output_type": "display_data",
       "png": "[encoded data removed]"
      }
     ],
     "prompt_number": 146
    },
    {
     "cell_type": "code",
     "collapsed": false,
     "input": [],
     "language": "python",
     "metadata": {},
     "outputs": []
    }
   ],
   "metadata": {}
  }
 ]
}